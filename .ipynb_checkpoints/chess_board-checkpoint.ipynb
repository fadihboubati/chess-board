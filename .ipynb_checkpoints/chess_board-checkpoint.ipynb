{
 "cells": [
  {
   "cell_type": "code",
   "execution_count": 42,
   "metadata": {},
   "outputs": [
    {
     "data": {
      "image/png": "[encoded data removed]",
      "text/plain": [
       "<Figure size 432x288 with 1 Axes>"
      ]
     },
     "metadata": {
      "needs_background": "light"
     },
     "output_type": "display_data"
    }
   ],
   "source": [
    "import numpy as np\n",
    "import matplotlib.pyplot as plt\n",
    "\n",
    "class ChessBoard:\n",
    "    white = [1,1,1]\n",
    "    blue = [0,0,1]\n",
    "    red = [1,0,0]\n",
    "    queens_coordinates = {\n",
    "        \"red_queen\": [],\n",
    "        \"blue_queen\": []\n",
    "    }\n",
    "\n",
    "    def __init__(self):\n",
    "        self.grid = np.zeros([8,8,3])\n",
    "        for i in range(8):\n",
    "            for j in range(8):\n",
    "                if (i%2==0 and j%2==0) or (i%2==1 and j%2==1):\n",
    "                    ''' if both are even or both are odd '''\n",
    "                    self.grid[i,j] = ChessBoard.white\n",
    "                        \n",
    "    def render(self):\n",
    "        plt.imshow(self.grid)\n",
    "        \n",
    "    def empty_the_board(self):\n",
    "        self.__init__()\n",
    "        \n",
    "    def add_red(self,red_x,red_y):\n",
    "        self.queens_coordinates['red_queen'] = []\n",
    "        self.queens_coordinates['red_queen'].extend([red_x, red_y])\n",
    "        self.grid[red_x,red_y]=ChessBoard.red\n",
    "    \n",
    "    \n",
    "    def add_blue(self,blue_x,blue_y):\n",
    "        self.queens_coordinates['blue_queen'] = []\n",
    "        self.queens_coordinates['blue_queen'].extend([blue_x, blue_y])\n",
    "        self.grid[blue_x,blue_y]=ChessBoard.blue\n",
    "\n",
    "    @staticmethod\n",
    "    def check_if_diagonal(red_x_acces,red_y_acces,blue_x_acces,blue_y_acces):\n",
    "        x_acces = abs(red_x_acces - blue_x_acces)\n",
    "        y_acces = abs(red_y_acces - blue_y_acces)\n",
    "        return x_acces == y_acces\n",
    "\n",
    "    def check_if_under_attack(self):\n",
    "        check = False\n",
    "        result = ChessBoard.check_if_diagonal(\n",
    "            self.queens_coordinates['red_queen'][0],self.queens_coordinates['red_queen'][1],\n",
    "            self.queens_coordinates['blue_queen'][0],self.queens_coordinates['blue_queen'][1])\n",
    "        if result:\n",
    "            check = True\n",
    "            \n",
    "        if self.queens_coordinates['red_queen'][0] == self.queens_coordinates['blue_queen'][0]:\n",
    "            check = True\n",
    "        \n",
    "        if self.queens_coordinates['red_queen'][1] == self.queens_coordinates['blue_queen'][1]:\n",
    "            check = True\n",
    "            \n",
    "        return check\n",
    "\n",
    "board = ChessBoard()\n",
    "board.render()"
   ]
  },
  {
   "cell_type": "markdown",
   "metadata": {},
   "source": []
  },
  {
   "cell_type": "code",
   "execution_count": 43,
   "metadata": {},
   "outputs": [
    {
     "name": "stdout",
     "output_type": "stream",
     "text": [
      "False\n"
     ]
    },
    {
     "data": {
      "image/png": "[encoded data removed]",
      "text/plain": [
       "<Figure size 432x288 with 1 Axes>"
      ]
     },
     "metadata": {
      "needs_background": "light"
     },
     "output_type": "display_data"
    }
   ],
   "source": [
    "board.add_red(0,0)\n",
    "board.add_blue(5,5)\n",
    "\n",
    "board.empty_the_board()\n",
    "\n",
    "board.add_blue(1,3)\n",
    "board.add_red(5,5)\n",
    "board.render()\n",
    "is_under_attack = board.check_if_under_attack()\n",
    "print(is_under_attack)"
   ]
  },
  {
   "cell_type": "code",
   "execution_count": 44,
   "metadata": {},
   "outputs": [
    {
     "name": "stdout",
     "output_type": "stream",
     "text": [
      "all tests passed successfully\n"
     ]
    }
   ],
   "source": [
    "def test_chess_board():\n",
    "    board = ChessBoard()\n",
    "    board.add_red(2,2)\n",
    "    board.add_blue(5,5)\n",
    "    is_under_attack = board.check_if_under_attack()\n",
    "    assert is_under_attack == True\n",
    "    board.add_red(3,1)\n",
    "    board.add_blue(5,5)\n",
    "    is_under_attack = board.check_if_under_attack()\n",
    "    assert is_under_attack == False\n",
    "    print('all tests passed successfully')\n",
    "\n",
    "test_chess_board()"
   ]
  },
  {
   "cell_type": "code",
   "execution_count": null,
   "metadata": {},
   "outputs": [],
   "source": []
  }
 ],
 "metadata": {
  "kernelspec": {
   "display_name": "Python 3 (ipykernel)",
   "language": "python",
   "name": "python3"
  },
  "language_info": {
   "codemirror_mode": {
    "name": "ipython",
    "version": 3
   },
   "file_extension": ".py",
   "mimetype": "text/x-python",
   "name": "python",
   "nbconvert_exporter": "python",
   "pygments_lexer": "ipython3",
   "version": "3.9.6"
  }
 },
 "nbformat": 4,
 "nbformat_minor": 4
}
