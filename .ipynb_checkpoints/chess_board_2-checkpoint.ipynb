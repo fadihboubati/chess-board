{
 "cells": [
  {
   "cell_type": "code",
   "execution_count": 1,
   "metadata": {},
   "outputs": [],
   "source": [
    "import numpy as np\n",
    "import matplotlib.pyplot as plt"
   ]
  },
  {
   "cell_type": "markdown",
   "metadata": {},
   "source": [
    "# Using 2D Array"
   ]
  },
  {
   "cell_type": "code",
   "execution_count": 2,
   "metadata": {},
   "outputs": [],
   "source": [
    "# using 3D array\n",
    "class ChessBoard:\n",
    "    white = [1,1,1]\n",
    "    blue = []\n",
    "    red = []\n",
    "    def __init__(self):\n",
    "#         self.queen_red = [0,0]\n",
    "        self.grid = np.zeros([8,8,3])\n",
    "        for i in range(8):\n",
    "            for j in range(8):\n",
    "                if (i%2==0 and j%2==0) or (i%2==1 and j%2==1):\n",
    "                    self.grid[i,j] = ChessBoard.white\n",
    "    \n",
    "        ##   \n",
    "    def render(self):\n",
    "        plt.imshow(self.grid)\n",
    "        \n",
    "    def add_red(self,red_x,red_y):\n",
    "        ChessBoard.red = []\n",
    "        lst = [red_x, red_y]\n",
    "        ChessBoard.red.append(lst)\n",
    "        self.grid[red_x,red_y]=[1,0,0]\n",
    "        \n",
    "        \n",
    "\n",
    "#         print(f'red : row,x = {self.red_x}, col,y = {self.red_y}')        \n",
    "    \n",
    "    def add_blue(self,blue_x,blue_y):\n",
    "        ChessBoard.blue = []\n",
    "        lst = [blue_x, blue_y]\n",
    "        ChessBoard.blue.append(lst)\n",
    "        self.grid[blue_x,blue_y]=[0,0,1]\n",
    "#         print(f'blue : row,x = {self.blue_x}, col,y = {self.blue_y}')\n",
    "\n",
    "    @staticmethod\n",
    "    def check_if_diagonal(red_x_acces,red_y_acces,blue_x_acces,blue_y_acces):\n",
    "        x_acces = abs(red_x_acces - blue_x_acces)\n",
    "        y_acces = abs(red_y_acces - blue_y_acces)\n",
    "        return x_acces == y_acces\n",
    "\n",
    "    \n",
    "    def check_if_under_attack(self):\n",
    "        check = False\n",
    "        \n",
    "        ## im the result mohammad dont coopy and paste\n",
    "        result = check_if_diagonal()\n",
    "        if (red_x == blue_x):\n",
    "            return True\n",
    "        if (red_y == blue_y):\n",
    "            return True\n",
    "    \n",
    "        if (abs(red_x - red_y) == abs(blue_x - blue_y)):\n",
    "            return True\n",
    "        return False\n",
    "    \n",
    "    "
   ]
  },
  {
   "cell_type": "markdown",
   "metadata": {},
   "source": [
    "# Using 2D Array"
   ]
  },
  {
   "cell_type": "code",
   "execution_count": 3,
   "metadata": {},
   "outputs": [],
   "source": [
    "# using 2D array\n",
    "class ChessBoard_2D_way:\n",
    "    blue = []\n",
    "    red = []\n",
    "\n",
    "    def __init__(self):\n",
    "#         self.queen_red = [0,0]\n",
    "        self.grid = np.zeros(shape=(8,8))\n",
    "        for i in range(8):\n",
    "            for j in range(8):\n",
    "                if (i%2==0 and j%2==0) or (i%2==1 and j%2==1):\n",
    "                    self.grid[i,j] = 10\n",
    "                        \n",
    "    def render(self):\n",
    "        plt.imshow(self.grid, cmap='nipy_spectral')\n",
    "        plt.colorbar()\n",
    "        \n",
    "    def add_red(self,red_x,red_y):\n",
    "        ChessBoard.red = []\n",
    "        lst = [red_x, red_y]\n",
    "        ChessBoard.red.append(lst)\n",
    "        self.grid[red_x,red_y]=9\n",
    "        \n",
    "    \n",
    "    def add_blue(self,blue_x,blue_y):\n",
    "        ChessBoard.blue = []\n",
    "        lst = [blue_x, blue_y]\n",
    "        ChessBoard.blue.append(lst)\n",
    "        self.grid[blue_x,blue_y]=2\n",
    "\n",
    "\n",
    "    @staticmethod\n",
    "    def check_if_diagonal(red_x_acces,red_y_acces,blue_x_acces,blue_y_acces):\n",
    "        x_acces = abs(red_x_acces - blue_x_acces)\n",
    "        y_acces = abs(red_y_acces - blue_y_acces)\n",
    "        return x_acces == y_acces\n",
    "\n",
    "    \n",
    "    def check_if_under_attack(self):\n",
    "        check = False\n",
    "        \n",
    "        ## im the result mohammad dont coopy and paste\n",
    "        result = check_if_diagonal()\n",
    "        if (red_x == blue_x):\n",
    "            return True\n",
    "        if (red_y == blue_y):\n",
    "            return True\n",
    "    \n",
    "        if (abs(red_x - red_y) == abs(blue_x - blue_y)):\n",
    "            return True\n",
    "        return False\n",
    "        \n"
   ]
  },
  {
   "cell_type": "code",
   "execution_count": 4,
   "metadata": {},
   "outputs": [
    {
     "data": {
      "image/png": "[encoded data removed]",
      "text/plain": [
       "<Figure size 432x288 with 3 Axes>"
      ]
     },
     "metadata": {
      "needs_background": "light"
     },
     "output_type": "display_data"
    }
   ],
   "source": [
    "#board = ChessBoard()\n",
    "board = ChessBoard_2D_way()\n",
    "board.render()\n",
    "\n",
    "board.add_red(0,1)\n",
    "board.add_blue(4,5)\n",
    "board.render()"
   ]
  },
  {
   "cell_type": "code",
   "execution_count": null,
   "metadata": {},
   "outputs": [],
   "source": []
  }
 ],
 "metadata": {
  "kernelspec": {
   "display_name": "Python 3 (ipykernel)",
   "language": "python",
   "name": "python3"
  },
  "language_info": {
   "codemirror_mode": {
    "name": "ipython",
    "version": 3
   },
   "file_extension": ".py",
   "mimetype": "text/x-python",
   "name": "python",
   "nbconvert_exporter": "python",
   "pygments_lexer": "ipython3",
   "version": "3.9.6"
  }
 },
 "nbformat": 4,
 "nbformat_minor": 4
}
